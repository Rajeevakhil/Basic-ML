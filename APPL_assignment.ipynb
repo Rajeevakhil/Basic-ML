{
  "nbformat": 4,
  "nbformat_minor": 0,
  "metadata": {
    "colab": {
      "name": "APPL assignment.ipynb",
      "provenance": [],
      "collapsed_sections": [],
      "authorship_tag": "ABX9TyN1RDmR9eNaVyW+JP6uNFR8",
      "include_colab_link": true
    },
    "kernelspec": {
      "name": "python3",
      "display_name": "Python 3"
    },
    "language_info": {
      "name": "python"
    }
  },
  "cells": [
    {
      "cell_type": "markdown",
      "metadata": {
        "id": "view-in-github",
        "colab_type": "text"
      },
      "source": [
        "<a href=\"https://colab.research.google.com/github/Rajeevakhil/Basic-ML/blob/main/APPL_assignment.ipynb\" target=\"_parent\"><img src=\"https://colab.research.google.com/assets/colab-badge.svg\" alt=\"Open In Colab\"/></a>"
      ]
    },
    {
      "cell_type": "code",
      "metadata": {
        "id": "zq1BLYcTbtj3"
      },
      "source": [
        ""
      ],
      "execution_count": null,
      "outputs": []
    },
    {
      "cell_type": "markdown",
      "metadata": {
        "id": "DeEPPT8bbyY1"
      },
      "source": [
        " Python program to check whether it is even or odd"
      ]
    },
    {
      "cell_type": "code",
      "metadata": {
        "colab": {
          "base_uri": "https://localhost:8080/"
        },
        "id": "O9cBFElscAM5",
        "outputId": "06a288f2-21eb-4cf7-9c0c-47b53a7fc7b2"
      },
      "source": [
        "a = 7\n",
        "if a%2 == 0:\n",
        "   print(\"even\")\n",
        "else:\n",
        "   print(\"odd\")"
      ],
      "execution_count": null,
      "outputs": [
        {
          "output_type": "stream",
          "text": [
            "odd\n"
          ],
          "name": "stdout"
        }
      ]
    },
    {
      "cell_type": "markdown",
      "metadata": {
        "id": "kCcs3ShwciKE"
      },
      "source": [
        "Python program to print the largest number"
      ]
    },
    {
      "cell_type": "code",
      "metadata": {
        "colab": {
          "base_uri": "https://localhost:8080/"
        },
        "id": "Inkb_HBgcp0d",
        "outputId": "a122ef4b-2f9e-41f8-a652-b53000b69605"
      },
      "source": [
        "a = 1\n",
        "b = 2\n",
        "c = 3\n",
        "if a>b and a>c:\n",
        "   print(a)\n",
        "elif b>a and b>c:\n",
        "   print(b)\n",
        "else:\n",
        "   print(c)"
      ],
      "execution_count": null,
      "outputs": [
        {
          "output_type": "stream",
          "text": [
            "3\n"
          ],
          "name": "stdout"
        }
      ]
    },
    {
      "cell_type": "markdown",
      "metadata": {
        "id": "qVRM9NCpdiwY"
      },
      "source": [
        "Python program to check whether the number is palindrome or not"
      ]
    },
    {
      "cell_type": "code",
      "metadata": {
        "colab": {
          "base_uri": "https://localhost:8080/"
        },
        "id": "zAXO8exJdo_F",
        "outputId": "e0c0de38-cda9-4753-b199-e4b5b037ca85"
      },
      "source": [
        "a = \"2332\"\n",
        "b = a[::-1]\n",
        "if a == b:\n",
        "   print(\"it is a palindrome\")\n",
        "else:\n",
        "   print(\"not a palindrome\")"
      ],
      "execution_count": null,
      "outputs": [
        {
          "output_type": "stream",
          "text": [
            "it is a palindrome\n"
          ],
          "name": "stdout"
        }
      ]
    }
  ]
}